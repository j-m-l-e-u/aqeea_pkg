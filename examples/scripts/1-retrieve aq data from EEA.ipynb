{
 "cells": [
  {
   "cell_type": "code",
   "execution_count": 1,
   "id": "bc9842b6",
   "metadata": {},
   "outputs": [],
   "source": [
    "import os\n",
    "from aqeea.download import d_latest, d_historical,d_metadata"
   ]
  },
  {
   "cell_type": "markdown",
   "id": "dcf3c98c",
   "metadata": {},
   "source": [
    "## Paths"
   ]
  },
  {
   "cell_type": "code",
   "execution_count": 2,
   "id": "ee53809c",
   "metadata": {},
   "outputs": [],
   "source": [
    "parent_dir = os.path.abspath(os.path.join(os.path.abspath(os.getcwd()), os.pardir))\n",
    "blob_path = os.path.join(parent_dir,\"data\")\n",
    "os.makedirs(blob_path, exist_ok=True)"
   ]
  },
  {
   "cell_type": "markdown",
   "id": "dc92a2a1",
   "metadata": {},
   "source": [
    "## Last 48 hours"
   ]
  },
  {
   "cell_type": "code",
   "execution_count": 3,
   "id": "b1db8792",
   "metadata": {},
   "outputs": [],
   "source": [
    "country = \"Serbia\"\n",
    "pollutant = \"PM10\""
   ]
  },
  {
   "cell_type": "code",
   "execution_count": 4,
   "id": "6c411fc6",
   "metadata": {},
   "outputs": [
    {
     "name": "stdout",
     "output_type": "stream",
     "text": [
      ">> Serbia\n",
      "> PM10\n",
      "url: https://discomap.eea.europa.eu/map/fme/latest/RS_PM10.csv time (s): 0.3340935707092285\n",
      "Download completed.\n"
     ]
    },
    {
     "data": {
      "text/plain": [
       "True"
      ]
     },
     "execution_count": 4,
     "metadata": {},
     "output_type": "execute_result"
    }
   ],
   "source": [
    "d_latest(country=country,pollutant=pollutant,blob_path=blob_path)"
   ]
  },
  {
   "cell_type": "markdown",
   "id": "2eeb3fad",
   "metadata": {},
   "source": [
    "## Up-to-date data (non-validated)"
   ]
  },
  {
   "cell_type": "code",
   "execution_count": 5,
   "id": "efd0b0ca",
   "metadata": {},
   "outputs": [],
   "source": [
    "country = \"Serbia\"\n",
    "pollutant = \"PM10\"\n",
    "year_from = 2023\n",
    "year_to = 2023\n",
    "source = 'uptodate'"
   ]
  },
  {
   "cell_type": "code",
   "execution_count": 6,
   "id": "4181e1f3",
   "metadata": {},
   "outputs": [
    {
     "name": "stdout",
     "output_type": "stream",
     "text": [
      ">> Serbia\n",
      "> PM10\n",
      "Joining id filenames w/ id sampling points\n",
      "Download completed.\n"
     ]
    },
    {
     "data": {
      "text/plain": [
       "True"
      ]
     },
     "execution_count": 6,
     "metadata": {},
     "output_type": "execute_result"
    }
   ],
   "source": [
    "d_historical(source=source, country=country,pollutant=pollutant,year_from=year_from,year_to=year_to, blob_path=blob_path)"
   ]
  },
  {
   "cell_type": "markdown",
   "id": "bd599c58",
   "metadata": {},
   "source": [
    "## Validated data"
   ]
  },
  {
   "cell_type": "markdown",
   "id": "24febc3c",
   "metadata": {},
   "source": [
    "Data available from 2013 up the two years before the ongoing year; e.g 2021 for year the ongoing year 2023"
   ]
  },
  {
   "cell_type": "code",
   "execution_count": 7,
   "id": "7a4ec4fa",
   "metadata": {},
   "outputs": [],
   "source": [
    "country = \"Serbia\"\n",
    "pollutant = \"PM10\"\n",
    "year_from = 2021\n",
    "year_to = 2021\n",
    "source = 'validated'"
   ]
  },
  {
   "cell_type": "code",
   "execution_count": 8,
   "id": "5abb20f0",
   "metadata": {},
   "outputs": [
    {
     "name": "stdout",
     "output_type": "stream",
     "text": [
      ">> Serbia\n",
      "> PM10\n",
      "Joining id filenames w/ id sampling points\n",
      "Download completed.\n"
     ]
    },
    {
     "data": {
      "text/plain": [
       "True"
      ]
     },
     "execution_count": 8,
     "metadata": {},
     "output_type": "execute_result"
    }
   ],
   "source": [
    "d_historical(source=source,country=country,pollutant=pollutant,year_from=year_from,year_to=year_to,blob_path=blob_path)"
   ]
  },
  {
   "cell_type": "markdown",
   "id": "2a843525",
   "metadata": {},
   "source": [
    "## Metadata"
   ]
  },
  {
   "cell_type": "code",
   "execution_count": 9,
   "id": "e1b10a07",
   "metadata": {},
   "outputs": [
    {
     "name": "stdout",
     "output_type": "stream",
     "text": [
      "url: https://discomap.eea.europa.eu/map/fme/metadata/PanEuropean_metadata.csv time (s): 1.59059476852417\n",
      "Download completed.\n"
     ]
    },
    {
     "data": {
      "text/plain": [
       "True"
      ]
     },
     "execution_count": 9,
     "metadata": {},
     "output_type": "execute_result"
    }
   ],
   "source": [
    "d_metadata(blob_path=blob_path)"
   ]
  },
  {
   "cell_type": "code",
   "execution_count": null,
   "id": "0449a944",
   "metadata": {},
   "outputs": [],
   "source": []
  }
 ],
 "metadata": {
  "kernelspec": {
   "display_name": "Python 3 (ipykernel)",
   "language": "python",
   "name": "python3"
  },
  "language_info": {
   "codemirror_mode": {
    "name": "ipython",
    "version": 3
   },
   "file_extension": ".py",
   "mimetype": "text/x-python",
   "name": "python",
   "nbconvert_exporter": "python",
   "pygments_lexer": "ipython3",
   "version": "3.8.16"
  }
 },
 "nbformat": 4,
 "nbformat_minor": 5
}
