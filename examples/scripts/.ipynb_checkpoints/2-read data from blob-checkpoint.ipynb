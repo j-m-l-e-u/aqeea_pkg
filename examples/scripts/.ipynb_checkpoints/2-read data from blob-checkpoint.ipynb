{
 "cells": [
  {
   "cell_type": "code",
   "execution_count": 1,
   "id": "0ffce37f",
   "metadata": {},
   "outputs": [
    {
     "name": "stderr",
     "output_type": "stream",
     "text": [
      "Matplotlib is building the font cache; this may take a moment.\n"
     ]
    }
   ],
   "source": [
    "import os\n",
    "import osmnx as ox # pip install osmnx\n",
    "from aqeea.read import latest, historical,metadata"
   ]
  },
  {
   "cell_type": "markdown",
   "id": "68f5c5e0",
   "metadata": {},
   "source": [
    "## Forewords"
   ]
  },
  {
   "cell_type": "markdown",
   "id": "09b6451a",
   "metadata": {},
   "source": [
    "Using functions like `historical`,`latest` or `metadata` requires you to download from EEA in first instance by using the functions `d_historical`,`d_latest` or `d_metadata`, or the corresponding bash commands described in the README."
   ]
  },
  {
   "cell_type": "markdown",
   "id": "abe74daf",
   "metadata": {},
   "source": [
    "## Paths"
   ]
  },
  {
   "cell_type": "code",
   "execution_count": 2,
   "id": "ed41ddaa",
   "metadata": {},
   "outputs": [],
   "source": [
    "parent_dir = os.path.abspath(os.path.join(os.path.abspath(os.getcwd()), os.pardir))\n",
    "blob_path = os.path.join(parent_dir,\"data\")"
   ]
  },
  {
   "cell_type": "markdown",
   "id": "6aca6ed4",
   "metadata": {},
   "source": [
    "## Location target"
   ]
  },
  {
   "cell_type": "markdown",
   "id": "7050f7ee",
   "metadata": {},
   "source": [
    "Get the boundary box of a target location using open-street map."
   ]
  },
  {
   "cell_type": "code",
   "execution_count": 3,
   "id": "0af85842",
   "metadata": {},
   "outputs": [],
   "source": [
    "# define the place query\n",
    "query = {'city': 'Beograd'}\n",
    "\n",
    "# get the boundaries of the place\n",
    "gdf = ox.geocode_to_gdf(query)\n",
    "bbox = gdf.total_bounds"
   ]
  },
  {
   "cell_type": "markdown",
   "id": "a695cabd",
   "metadata": {},
   "source": [
    "## Read historical validated data"
   ]
  },
  {
   "cell_type": "code",
   "execution_count": 4,
   "id": "3876bd98",
   "metadata": {},
   "outputs": [],
   "source": [
    "datetime_from = '2021-01-01 00:00:00'\n",
    "datetime_to = '2021-01-12 00:00:00'\n",
    "lat_min, lat_max = bbox[1],bbox[3]\n",
    "lon_min, lon_max = bbox[0],bbox[2]\n",
    "pollutant = \"PM10\"\n",
    "source = 'validated'"
   ]
  },
  {
   "cell_type": "code",
   "execution_count": 5,
   "id": "8b113ddd",
   "metadata": {},
   "outputs": [],
   "source": [
    "res = historical(source=source,pollutant=pollutant,datetime_from=datetime_from,datetime_to=datetime_to,lat_min=lat_min,lat_max=lat_max,lon_min=lon_min,lon_max=lon_max, blob_path=blob_path)"
   ]
  },
  {
   "cell_type": "code",
   "execution_count": 6,
   "id": "26a031c8",
   "metadata": {
    "scrolled": true
   },
   "outputs": [
    {
     "data": {
      "text/html": [
       "<div><style>\n",
       ".dataframe > thead > tr > th,\n",
       ".dataframe > tbody > tr > td {\n",
       "  text-align: right;\n",
       "}\n",
       "</style>\n",
       "<small>shape: (265, 4)</small><table border=\"1\" class=\"dataframe\"><thead><tr><th>DatetimeBegin</th><th>SPO-RS0028A_00005_100</th><th>SPO-RS0032A_00005_100</th><th>SPO-RS0036A_00005_100</th></tr><tr><td>datetime[μs, +01:00]</td><td>f64</td><td>f64</td><td>f64</td></tr></thead><tbody><tr><td>2021-01-01 01:00:00 +01:00</td><td>18.0</td><td>25.8</td><td>30.5</td></tr><tr><td>2021-01-01 02:00:00 +01:00</td><td>21.7</td><td>28.2</td><td>38.2</td></tr><tr><td>2021-01-01 03:00:00 +01:00</td><td>25.7</td><td>23.3</td><td>33.9</td></tr><tr><td>2021-01-01 04:00:00 +01:00</td><td>24.0</td><td>24.2</td><td>41.7</td></tr><tr><td>2021-01-01 05:00:00 +01:00</td><td>27.2</td><td>26.9</td><td>41.8</td></tr><tr><td>2021-01-01 06:00:00 +01:00</td><td>27.2</td><td>30.6</td><td>40.8</td></tr><tr><td>2021-01-01 07:00:00 +01:00</td><td>29.8</td><td>35.2</td><td>44.9</td></tr><tr><td>2021-01-01 08:00:00 +01:00</td><td>37.9</td><td>39.3</td><td>45.2</td></tr><tr><td>2021-01-01 09:00:00 +01:00</td><td>34.3</td><td>39.7</td><td>39.9</td></tr><tr><td>2021-01-01 10:00:00 +01:00</td><td>30.2</td><td>46.1</td><td>41.9</td></tr><tr><td>2021-01-01 11:00:00 +01:00</td><td>27.4</td><td>42.9</td><td>35.4</td></tr><tr><td>2021-01-01 12:00:00 +01:00</td><td>14.9</td><td>21.3</td><td>20.3</td></tr><tr><td>&hellip;</td><td>&hellip;</td><td>&hellip;</td><td>&hellip;</td></tr><tr><td>2021-01-11 14:00:00 +01:00</td><td>39.7</td><td>57.9</td><td>52.5</td></tr><tr><td>2021-01-11 15:00:00 +01:00</td><td>41.4</td><td>57.3</td><td>57.7</td></tr><tr><td>2021-01-11 16:00:00 +01:00</td><td>44.4</td><td>46.0</td><td>58.2</td></tr><tr><td>2021-01-11 17:00:00 +01:00</td><td>41.4</td><td>47.6</td><td>64.0</td></tr><tr><td>2021-01-11 18:00:00 +01:00</td><td>38.0</td><td>48.1</td><td>56.0</td></tr><tr><td>2021-01-11 19:00:00 +01:00</td><td>41.8</td><td>52.8</td><td>58.2</td></tr><tr><td>2021-01-11 20:00:00 +01:00</td><td>41.0</td><td>52.9</td><td>67.0</td></tr><tr><td>2021-01-11 21:00:00 +01:00</td><td>42.9</td><td>57.7</td><td>62.3</td></tr><tr><td>2021-01-11 22:00:00 +01:00</td><td>43.4</td><td>57.0</td><td>60.3</td></tr><tr><td>2021-01-11 23:00:00 +01:00</td><td>44.4</td><td>55.0</td><td>61.0</td></tr><tr><td>2021-01-12 00:00:00 +01:00</td><td>40.7</td><td>55.2</td><td>60.7</td></tr><tr><td>2021-01-12 01:00:00 +01:00</td><td>37.9</td><td>51.8</td><td>55.5</td></tr></tbody></table></div>"
      ],
      "text/plain": [
       "shape: (265, 4)\n",
       "┌──────────────────────┬───────────────────────┬───────────────────────┬───────────────────────┐\n",
       "│ DatetimeBegin        ┆ SPO-RS0028A_00005_100 ┆ SPO-RS0032A_00005_100 ┆ SPO-RS0036A_00005_100 │\n",
       "│ ---                  ┆ ---                   ┆ ---                   ┆ ---                   │\n",
       "│ datetime[μs, +01:00] ┆ f64                   ┆ f64                   ┆ f64                   │\n",
       "╞══════════════════════╪═══════════════════════╪═══════════════════════╪═══════════════════════╡\n",
       "│ 2021-01-01 01:00:00  ┆ 18.0                  ┆ 25.8                  ┆ 30.5                  │\n",
       "│ +01:00               ┆                       ┆                       ┆                       │\n",
       "│ 2021-01-01 02:00:00  ┆ 21.7                  ┆ 28.2                  ┆ 38.2                  │\n",
       "│ +01:00               ┆                       ┆                       ┆                       │\n",
       "│ 2021-01-01 03:00:00  ┆ 25.7                  ┆ 23.3                  ┆ 33.9                  │\n",
       "│ +01:00               ┆                       ┆                       ┆                       │\n",
       "│ 2021-01-01 04:00:00  ┆ 24.0                  ┆ 24.2                  ┆ 41.7                  │\n",
       "│ +01:00               ┆                       ┆                       ┆                       │\n",
       "│ …                    ┆ …                     ┆ …                     ┆ …                     │\n",
       "│ 2021-01-11 22:00:00  ┆ 43.4                  ┆ 57.0                  ┆ 60.3                  │\n",
       "│ +01:00               ┆                       ┆                       ┆                       │\n",
       "│ 2021-01-11 23:00:00  ┆ 44.4                  ┆ 55.0                  ┆ 61.0                  │\n",
       "│ +01:00               ┆                       ┆                       ┆                       │\n",
       "│ 2021-01-12 00:00:00  ┆ 40.7                  ┆ 55.2                  ┆ 60.7                  │\n",
       "│ +01:00               ┆                       ┆                       ┆                       │\n",
       "│ 2021-01-12 01:00:00  ┆ 37.9                  ┆ 51.8                  ┆ 55.5                  │\n",
       "│ +01:00               ┆                       ┆                       ┆                       │\n",
       "└──────────────────────┴───────────────────────┴───────────────────────┴───────────────────────┘"
      ]
     },
     "execution_count": 6,
     "metadata": {},
     "output_type": "execute_result"
    }
   ],
   "source": [
    "res"
   ]
  },
  {
   "cell_type": "markdown",
   "id": "c600bb5d",
   "metadata": {},
   "source": [
    "## Read historical up-to-date data"
   ]
  },
  {
   "cell_type": "code",
   "execution_count": 7,
   "id": "6fa7df60",
   "metadata": {},
   "outputs": [],
   "source": [
    "datetime_from = '2023-01-01 00:00:00'\n",
    "datetime_to = '2023-01-12 00:00:00'\n",
    "lat_min, lat_max = bbox[1],bbox[3]\n",
    "lon_min, lon_max = bbox[0],bbox[2]\n",
    "pollutant = \"PM10\"\n",
    "source = 'uptodate'"
   ]
  },
  {
   "cell_type": "code",
   "execution_count": 8,
   "id": "c07f4f90",
   "metadata": {},
   "outputs": [],
   "source": [
    "res = historical(source=source,pollutant=pollutant,datetime_from=datetime_from,datetime_to=datetime_to,lat_min=lat_min,lat_max=lat_max,lon_min=lon_min,lon_max=lon_max, blob_path=blob_path)"
   ]
  },
  {
   "cell_type": "code",
   "execution_count": 9,
   "id": "ad29e90e",
   "metadata": {
    "scrolled": true
   },
   "outputs": [
    {
     "data": {
      "text/html": [
       "<div><style>\n",
       ".dataframe > thead > tr > th,\n",
       ".dataframe > tbody > tr > td {\n",
       "  text-align: right;\n",
       "}\n",
       "</style>\n",
       "<small>shape: (265, 4)</small><table border=\"1\" class=\"dataframe\"><thead><tr><th>DatetimeBegin</th><th>SPO-RS0028A_00005_100</th><th>SPO-RS0032A_00005_100</th><th>SPO-RS0036A_00005_100</th></tr><tr><td>datetime[μs, +01:00]</td><td>f64</td><td>f64</td><td>f64</td></tr></thead><tbody><tr><td>2023-01-01 01:00:00 +01:00</td><td>196.635</td><td>189.82833</td><td>91.76167</td></tr><tr><td>2023-01-01 02:00:00 +01:00</td><td>191.68</td><td>210.5661</td><td>106.37333</td></tr><tr><td>2023-01-01 03:00:00 +01:00</td><td>165.04286</td><td>185.23333</td><td>95.2725</td></tr><tr><td>2023-01-01 04:00:00 +01:00</td><td>130.27017</td><td>170.06833</td><td>86.42917</td></tr><tr><td>2023-01-01 05:00:00 +01:00</td><td>78.40763</td><td>153.57</td><td>78.65333</td></tr><tr><td>2023-01-01 06:00:00 +01:00</td><td>58.9478</td><td>165.13</td><td>50.16</td></tr><tr><td>2023-01-01 07:00:00 +01:00</td><td>87.30655</td><td>156.82667</td><td>60.83333</td></tr><tr><td>2023-01-01 08:00:00 +01:00</td><td>125.96203</td><td>124.98814</td><td>53.4125</td></tr><tr><td>2023-01-01 09:00:00 +01:00</td><td>128.08246</td><td>111.78833</td><td>51.01</td></tr><tr><td>2023-01-01 10:00:00 +01:00</td><td>114.83898</td><td>115.88</td><td>53.55083</td></tr><tr><td>2023-01-01 11:00:00 +01:00</td><td>116.32182</td><td>101.37667</td><td>71.8925</td></tr><tr><td>2023-01-01 12:00:00 +01:00</td><td>89.36966</td><td>77.46083</td><td>76.37583</td></tr><tr><td>&hellip;</td><td>&hellip;</td><td>&hellip;</td><td>&hellip;</td></tr><tr><td>2023-01-11 14:00:00 +01:00</td><td>20.99617</td><td>26.42333</td><td>null</td></tr><tr><td>2023-01-11 15:00:00 +01:00</td><td>21.70117</td><td>23.03233</td><td>null</td></tr><tr><td>2023-01-11 16:00:00 +01:00</td><td>17.5135</td><td>21.09117</td><td>null</td></tr><tr><td>2023-01-11 17:00:00 +01:00</td><td>18.82767</td><td>19.43283</td><td>null</td></tr><tr><td>2023-01-11 18:00:00 +01:00</td><td>19.4465</td><td>23.84</td><td>null</td></tr><tr><td>2023-01-11 19:00:00 +01:00</td><td>28.99217</td><td>33.99667</td><td>null</td></tr><tr><td>2023-01-11 20:00:00 +01:00</td><td>28.65817</td><td>31.48733</td><td>null</td></tr><tr><td>2023-01-11 21:00:00 +01:00</td><td>27.88533</td><td>32.92417</td><td>null</td></tr><tr><td>2023-01-11 22:00:00 +01:00</td><td>29.34533</td><td>30.73583</td><td>null</td></tr><tr><td>2023-01-11 23:00:00 +01:00</td><td>30.8225</td><td>31.92683</td><td>null</td></tr><tr><td>2023-01-12 00:00:00 +01:00</td><td>37.26467</td><td>34.50583</td><td>null</td></tr><tr><td>2023-01-12 01:00:00 +01:00</td><td>35.54833</td><td>41.09533</td><td>null</td></tr></tbody></table></div>"
      ],
      "text/plain": [
       "shape: (265, 4)\n",
       "┌──────────────────────┬───────────────────────┬───────────────────────┬───────────────────────┐\n",
       "│ DatetimeBegin        ┆ SPO-RS0028A_00005_100 ┆ SPO-RS0032A_00005_100 ┆ SPO-RS0036A_00005_100 │\n",
       "│ ---                  ┆ ---                   ┆ ---                   ┆ ---                   │\n",
       "│ datetime[μs, +01:00] ┆ f64                   ┆ f64                   ┆ f64                   │\n",
       "╞══════════════════════╪═══════════════════════╪═══════════════════════╪═══════════════════════╡\n",
       "│ 2023-01-01 01:00:00  ┆ 196.635               ┆ 189.82833             ┆ 91.76167              │\n",
       "│ +01:00               ┆                       ┆                       ┆                       │\n",
       "│ 2023-01-01 02:00:00  ┆ 191.68                ┆ 210.5661              ┆ 106.37333             │\n",
       "│ +01:00               ┆                       ┆                       ┆                       │\n",
       "│ 2023-01-01 03:00:00  ┆ 165.04286             ┆ 185.23333             ┆ 95.2725               │\n",
       "│ +01:00               ┆                       ┆                       ┆                       │\n",
       "│ 2023-01-01 04:00:00  ┆ 130.27017             ┆ 170.06833             ┆ 86.42917              │\n",
       "│ +01:00               ┆                       ┆                       ┆                       │\n",
       "│ …                    ┆ …                     ┆ …                     ┆ …                     │\n",
       "│ 2023-01-11 22:00:00  ┆ 29.34533              ┆ 30.73583              ┆ null                  │\n",
       "│ +01:00               ┆                       ┆                       ┆                       │\n",
       "│ 2023-01-11 23:00:00  ┆ 30.8225               ┆ 31.92683              ┆ null                  │\n",
       "│ +01:00               ┆                       ┆                       ┆                       │\n",
       "│ 2023-01-12 00:00:00  ┆ 37.26467              ┆ 34.50583              ┆ null                  │\n",
       "│ +01:00               ┆                       ┆                       ┆                       │\n",
       "│ 2023-01-12 01:00:00  ┆ 35.54833              ┆ 41.09533              ┆ null                  │\n",
       "│ +01:00               ┆                       ┆                       ┆                       │\n",
       "└──────────────────────┴───────────────────────┴───────────────────────┴───────────────────────┘"
      ]
     },
     "execution_count": 9,
     "metadata": {},
     "output_type": "execute_result"
    }
   ],
   "source": [
    "res"
   ]
  },
  {
   "cell_type": "markdown",
   "id": "352f109c",
   "metadata": {},
   "source": [
    "## Read latest 48h data"
   ]
  },
  {
   "cell_type": "code",
   "execution_count": 10,
   "id": "9fd25bf1",
   "metadata": {},
   "outputs": [],
   "source": [
    "lat_min, lat_max = bbox[1],bbox[3]\n",
    "lon_min, lon_max = bbox[0],bbox[2]\n",
    "pollutant = \"PM10\""
   ]
  },
  {
   "cell_type": "code",
   "execution_count": 11,
   "id": "ae0f6290",
   "metadata": {},
   "outputs": [],
   "source": [
    "res = latest(pollutant=pollutant,lat_min=lat_min,lat_max=lat_max,lon_min=lon_min,lon_max=lon_max,blob_path=blob_path)"
   ]
  },
  {
   "cell_type": "code",
   "execution_count": 12,
   "id": "ee5b58b9",
   "metadata": {},
   "outputs": [
    {
     "data": {
      "text/html": [
       "<div><style>\n",
       ".dataframe > thead > tr > th,\n",
       ".dataframe > tbody > tr > td {\n",
       "  text-align: right;\n",
       "}\n",
       "</style>\n",
       "<small>shape: (47, 4)</small><table border=\"1\" class=\"dataframe\"><thead><tr><th>value_datetime_begin</th><th>SPO-RS0032A_00005_100</th><th>SPO-RS0028A_00005_100</th><th>SPO-RS0036A_00005_100</th></tr><tr><td>datetime[μs, +01:00]</td><td>f64</td><td>f64</td><td>f64</td></tr></thead><tbody><tr><td>2023-03-29 12:00:00 +01:00</td><td>14.2835</td><td>13.22567</td><td>9.01183</td></tr><tr><td>2023-03-29 13:00:00 +01:00</td><td>17.315</td><td>14.373</td><td>9.67683</td></tr><tr><td>2023-03-29 14:00:00 +01:00</td><td>16.32552</td><td>15.60217</td><td>10.246</td></tr><tr><td>2023-03-29 15:00:00 +01:00</td><td>14.10089</td><td>13.832</td><td>10.06133</td></tr><tr><td>2023-03-29 16:00:00 +01:00</td><td>13.81167</td><td>11.29067</td><td>11.345</td></tr><tr><td>2023-03-29 17:00:00 +01:00</td><td>14.98644</td><td>11.55717</td><td>10.9605</td></tr><tr><td>2023-03-29 18:00:00 +01:00</td><td>18.06552</td><td>13.36617</td><td>12.36167</td></tr><tr><td>2023-03-29 19:00:00 +01:00</td><td>26.85345</td><td>21.10867</td><td>21.2605</td></tr><tr><td>2023-03-29 20:00:00 +01:00</td><td>25.6655</td><td>38.60917</td><td>29.24</td></tr><tr><td>2023-03-29 21:00:00 +01:00</td><td>31.99458</td><td>27.8755</td><td>26.866</td></tr><tr><td>2023-03-29 22:00:00 +01:00</td><td>27.55932</td><td>26.03033</td><td>27.40367</td></tr><tr><td>2023-03-29 23:00:00 +01:00</td><td>27.47083</td><td>26.56767</td><td>22.5095</td></tr><tr><td>&hellip;</td><td>&hellip;</td><td>&hellip;</td><td>&hellip;</td></tr><tr><td>2023-03-30 23:00:00 +01:00</td><td>39.16525</td><td>38.06483</td><td>null</td></tr><tr><td>2023-03-31 00:00:00 +01:00</td><td>50.23414</td><td>32.41967</td><td>null</td></tr><tr><td>2023-03-31 01:00:00 +01:00</td><td>46.75797</td><td>32.29417</td><td>null</td></tr><tr><td>2023-03-31 02:00:00 +01:00</td><td>68.08667</td><td>27.4395</td><td>null</td></tr><tr><td>2023-03-31 03:00:00 +01:00</td><td>19.11596</td><td>17.5005</td><td>null</td></tr><tr><td>2023-03-31 04:00:00 +01:00</td><td>11.22471</td><td>6.9935</td><td>null</td></tr><tr><td>2023-03-31 05:00:00 +01:00</td><td>10.07729</td><td>6.6635</td><td>null</td></tr><tr><td>2023-03-31 06:00:00 +01:00</td><td>12.31338</td><td>11.196</td><td>null</td></tr><tr><td>2023-03-31 07:00:00 +01:00</td><td>21.23877</td><td>19.75517</td><td>null</td></tr><tr><td>2023-03-31 08:00:00 +01:00</td><td>29.795</td><td>19.69017</td><td>null</td></tr><tr><td>2023-03-31 09:00:00 +01:00</td><td>24.04508</td><td>27.602</td><td>null</td></tr><tr><td>2023-03-31 10:00:00 +01:00</td><td>17.28759</td><td>23.67483</td><td>null</td></tr></tbody></table></div>"
      ],
      "text/plain": [
       "shape: (47, 4)\n",
       "┌──────────────────────┬───────────────────────┬───────────────────────┬───────────────────────┐\n",
       "│ value_datetime_begin ┆ SPO-RS0032A_00005_100 ┆ SPO-RS0028A_00005_100 ┆ SPO-RS0036A_00005_100 │\n",
       "│ ---                  ┆ ---                   ┆ ---                   ┆ ---                   │\n",
       "│ datetime[μs, +01:00] ┆ f64                   ┆ f64                   ┆ f64                   │\n",
       "╞══════════════════════╪═══════════════════════╪═══════════════════════╪═══════════════════════╡\n",
       "│ 2023-03-29 12:00:00  ┆ 14.2835               ┆ 13.22567              ┆ 9.01183               │\n",
       "│ +01:00               ┆                       ┆                       ┆                       │\n",
       "│ 2023-03-29 13:00:00  ┆ 17.315                ┆ 14.373                ┆ 9.67683               │\n",
       "│ +01:00               ┆                       ┆                       ┆                       │\n",
       "│ 2023-03-29 14:00:00  ┆ 16.32552              ┆ 15.60217              ┆ 10.246                │\n",
       "│ +01:00               ┆                       ┆                       ┆                       │\n",
       "│ 2023-03-29 15:00:00  ┆ 14.10089              ┆ 13.832                ┆ 10.06133              │\n",
       "│ +01:00               ┆                       ┆                       ┆                       │\n",
       "│ …                    ┆ …                     ┆ …                     ┆ …                     │\n",
       "│ 2023-03-31 07:00:00  ┆ 21.23877              ┆ 19.75517              ┆ null                  │\n",
       "│ +01:00               ┆                       ┆                       ┆                       │\n",
       "│ 2023-03-31 08:00:00  ┆ 29.795                ┆ 19.69017              ┆ null                  │\n",
       "│ +01:00               ┆                       ┆                       ┆                       │\n",
       "│ 2023-03-31 09:00:00  ┆ 24.04508              ┆ 27.602                ┆ null                  │\n",
       "│ +01:00               ┆                       ┆                       ┆                       │\n",
       "│ 2023-03-31 10:00:00  ┆ 17.28759              ┆ 23.67483              ┆ null                  │\n",
       "│ +01:00               ┆                       ┆                       ┆                       │\n",
       "└──────────────────────┴───────────────────────┴───────────────────────┴───────────────────────┘"
      ]
     },
     "execution_count": 12,
     "metadata": {},
     "output_type": "execute_result"
    }
   ],
   "source": [
    "res"
   ]
  },
  {
   "cell_type": "markdown",
   "id": "8c56d154",
   "metadata": {},
   "source": [
    "## Metadata"
   ]
  },
  {
   "cell_type": "code",
   "execution_count": 13,
   "id": "cd5eef28",
   "metadata": {},
   "outputs": [],
   "source": [
    "res = metadata(pollutant=pollutant,lat_min=lat_min,lat_max=lat_max,lon_min=lon_min,lon_max=lon_max,blob_path=blob_path)"
   ]
  },
  {
   "cell_type": "code",
   "execution_count": 14,
   "id": "ea44a5b2",
   "metadata": {},
   "outputs": [
    {
     "data": {
      "text/html": [
       "<div><style>\n",
       ".dataframe > thead > tr > th,\n",
       ".dataframe > tbody > tr > td {\n",
       "  text-align: right;\n",
       "}\n",
       "</style>\n",
       "<small>shape: (5, 25)</small><table border=\"1\" class=\"dataframe\"><thead><tr><th>Countrycode</th><th>Timezone</th><th>Namespace</th><th>AirQualityNetwork</th><th>AirQualityStation</th><th>AirQualityStationEoICode</th><th>AirQualityStationNatCode</th><th>SamplingPoint</th><th>SamplingProces</th><th>Sample</th><th>AirPollutantCode</th><th>ObservationDateBegin</th><th>ObservationDateEnd</th><th>Projection</th><th>Longitude</th><th>Latitude</th><th>Altitude</th><th>MeasurementType</th><th>AirQualityStationType</th><th>AirQualityStationArea</th><th>EquivalenceDemonstrated</th><th>MeasurementEquipment</th><th>InletHeight</th><th>BuildingDistance</th><th>KerbDistance</th></tr><tr><td>str</td><td>str</td><td>str</td><td>str</td><td>str</td><td>str</td><td>str</td><td>str</td><td>str</td><td>str</td><td>str</td><td>str</td><td>str</td><td>str</td><td>f64</td><td>f64</td><td>f64</td><td>str</td><td>str</td><td>str</td><td>str</td><td>str</td><td>f64</td><td>f64</td><td>f64</td></tr></thead><tbody><tr><td>&quot;RS&quot;</td><td>&quot;http://dd.eion…</td><td>&quot;RS.SEPA.AQ&quot;</td><td>&quot;NET-RS003A&quot;</td><td>&quot;STA-RS0008A&quot;</td><td>&quot;RS0008A&quot;</td><td>&quot;RS3020A&quot;</td><td>&quot;SPO-RS0008A_00…</td><td>&quot;SPP-RS_A_BETA_…</td><td>&quot;SPO_F-RS0008A_…</td><td>&quot;http://dd.eion…</td><td>&quot;2003-05-15T00:…</td><td>null</td><td>&quot;EPSG:4979&quot;</td><td>20.47</td><td>44.816</td><td>110.0</td><td>&quot;automatic&quot;</td><td>&quot;background&quot;</td><td>&quot;urban&quot;</td><td>&quot;ref&quot;</td><td>&quot;http://dd.eion…</td><td>3.5</td><td>null</td><td>null</td></tr><tr><td>&quot;RS&quot;</td><td>&quot;http://dd.eion…</td><td>&quot;RS.SEPA.AQ&quot;</td><td>&quot;NET-RS002A&quot;</td><td>&quot;STA-RS0028A&quot;</td><td>&quot;RS0028A&quot;</td><td>&quot;RS1025A&quot;</td><td>&quot;SPO-RS0028A_00…</td><td>&quot;SPP-RS_A_light…</td><td>&quot;SPO_F-RS0028A_…</td><td>&quot;http://dd.eion…</td><td>&quot;2010-01-01T00:…</td><td>null</td><td>&quot;EPSG:4979&quot;</td><td>20.450184</td><td>44.798746</td><td>83.0</td><td>&quot;automatic&quot;</td><td>&quot;traffic&quot;</td><td>&quot;urban&quot;</td><td>&quot;noRef&quot;</td><td>&quot;http://dd.eion…</td><td>3.5</td><td>110.0</td><td>20.0</td></tr><tr><td>&quot;RS&quot;</td><td>&quot;http://dd.eion…</td><td>&quot;RS.SEPA.AQ&quot;</td><td>&quot;NET-RS002A&quot;</td><td>&quot;STA-RS0032A&quot;</td><td>&quot;RS0032A&quot;</td><td>&quot;RS1018A&quot;</td><td>&quot;SPO-RS0032A_00…</td><td>&quot;SPP-RS_A_light…</td><td>&quot;SPO_F-RS0032A_…</td><td>&quot;http://dd.eion…</td><td>&quot;2011-01-01T00:…</td><td>null</td><td>&quot;EPSG:4979&quot;</td><td>20.459113</td><td>44.82112</td><td>103.0</td><td>&quot;automatic&quot;</td><td>&quot;background&quot;</td><td>&quot;urban&quot;</td><td>&quot;noRef&quot;</td><td>&quot;http://dd.eion…</td><td>3.5</td><td>null</td><td>null</td></tr><tr><td>&quot;RS&quot;</td><td>&quot;http://dd.eion…</td><td>&quot;RS.SEPA.AQ&quot;</td><td>&quot;NET-RS002A&quot;</td><td>&quot;STA-RS0036A&quot;</td><td>&quot;RS0036A&quot;</td><td>&quot;RS1023A&quot;</td><td>&quot;SPO-RS0036A_00…</td><td>&quot;SPP-RS_A_light…</td><td>&quot;SPO_F-RS0036A_…</td><td>&quot;http://dd.eion…</td><td>&quot;2011-01-01T00:…</td><td>null</td><td>&quot;EPSG:4979&quot;</td><td>20.400152</td><td>44.803179</td><td>74.0</td><td>&quot;automatic&quot;</td><td>&quot;background&quot;</td><td>&quot;urban&quot;</td><td>&quot;noRef&quot;</td><td>&quot;http://dd.eion…</td><td>3.5</td><td>null</td><td>null</td></tr><tr><td>&quot;RS&quot;</td><td>&quot;http://dd.eion…</td><td>&quot;RS.SEPA.AQ&quot;</td><td>&quot;NET-RS002A&quot;</td><td>&quot;STA-RS0037A&quot;</td><td>&quot;RS0037A&quot;</td><td>&quot;RS1026A&quot;</td><td>&quot;SPO-RS0037A_00…</td><td>&quot;SPP-RS_N_gravi…</td><td>&quot;SPO_F-RS0037A_…</td><td>&quot;http://dd.eion…</td><td>&quot;2012-01-01T00:…</td><td>null</td><td>&quot;EPSG:4979&quot;</td><td>20.475288</td><td>44.796959</td><td>141.0</td><td>&quot;active&quot;</td><td>&quot;background&quot;</td><td>&quot;urban&quot;</td><td>&quot;ref&quot;</td><td>null</td><td>1.9</td><td>null</td><td>null</td></tr></tbody></table></div>"
      ],
      "text/plain": [
       "shape: (5, 25)\n",
       "┌───────────┬────────┬─────────┬────────────┬───┬────────────┬───────────┬────────────┬────────────┐\n",
       "│ Countryco ┆ Timezo ┆ Namespa ┆ AirQuality ┆ … ┆ Measuremen ┆ InletHeig ┆ BuildingDi ┆ KerbDistan │\n",
       "│ de        ┆ ne     ┆ ce      ┆ Network    ┆   ┆ tEquipment ┆ ht        ┆ stance     ┆ ce         │\n",
       "│ ---       ┆ ---    ┆ ---     ┆ ---        ┆   ┆ ---        ┆ ---       ┆ ---        ┆ ---        │\n",
       "│ str       ┆ str    ┆ str     ┆ str        ┆   ┆ str        ┆ f64       ┆ f64        ┆ f64        │\n",
       "╞═══════════╪════════╪═════════╪════════════╪═══╪════════════╪═══════════╪════════════╪════════════╡\n",
       "│ RS        ┆ http:/ ┆ RS.SEPA ┆ NET-RS003A ┆ … ┆ http://dd. ┆ 3.5       ┆ null       ┆ null       │\n",
       "│           ┆ /dd.ei ┆ .AQ     ┆            ┆   ┆ eionet.eur ┆           ┆            ┆            │\n",
       "│           ┆ onet.e ┆         ┆            ┆   ┆ opa.eu/voc ┆           ┆            ┆            │\n",
       "│           ┆ uropa. ┆         ┆            ┆   ┆ ab…        ┆           ┆            ┆            │\n",
       "│           ┆ eu/voc ┆         ┆            ┆   ┆            ┆           ┆            ┆            │\n",
       "│           ┆ ab…    ┆         ┆            ┆   ┆            ┆           ┆            ┆            │\n",
       "│ RS        ┆ http:/ ┆ RS.SEPA ┆ NET-RS002A ┆ … ┆ http://dd. ┆ 3.5       ┆ 110.0      ┆ 20.0       │\n",
       "│           ┆ /dd.ei ┆ .AQ     ┆            ┆   ┆ eionet.eur ┆           ┆            ┆            │\n",
       "│           ┆ onet.e ┆         ┆            ┆   ┆ opa.eu/voc ┆           ┆            ┆            │\n",
       "│           ┆ uropa. ┆         ┆            ┆   ┆ ab…        ┆           ┆            ┆            │\n",
       "│           ┆ eu/voc ┆         ┆            ┆   ┆            ┆           ┆            ┆            │\n",
       "│           ┆ ab…    ┆         ┆            ┆   ┆            ┆           ┆            ┆            │\n",
       "│ RS        ┆ http:/ ┆ RS.SEPA ┆ NET-RS002A ┆ … ┆ http://dd. ┆ 3.5       ┆ null       ┆ null       │\n",
       "│           ┆ /dd.ei ┆ .AQ     ┆            ┆   ┆ eionet.eur ┆           ┆            ┆            │\n",
       "│           ┆ onet.e ┆         ┆            ┆   ┆ opa.eu/voc ┆           ┆            ┆            │\n",
       "│           ┆ uropa. ┆         ┆            ┆   ┆ ab…        ┆           ┆            ┆            │\n",
       "│           ┆ eu/voc ┆         ┆            ┆   ┆            ┆           ┆            ┆            │\n",
       "│           ┆ ab…    ┆         ┆            ┆   ┆            ┆           ┆            ┆            │\n",
       "│ RS        ┆ http:/ ┆ RS.SEPA ┆ NET-RS002A ┆ … ┆ http://dd. ┆ 3.5       ┆ null       ┆ null       │\n",
       "│           ┆ /dd.ei ┆ .AQ     ┆            ┆   ┆ eionet.eur ┆           ┆            ┆            │\n",
       "│           ┆ onet.e ┆         ┆            ┆   ┆ opa.eu/voc ┆           ┆            ┆            │\n",
       "│           ┆ uropa. ┆         ┆            ┆   ┆ ab…        ┆           ┆            ┆            │\n",
       "│           ┆ eu/voc ┆         ┆            ┆   ┆            ┆           ┆            ┆            │\n",
       "│           ┆ ab…    ┆         ┆            ┆   ┆            ┆           ┆            ┆            │\n",
       "│ RS        ┆ http:/ ┆ RS.SEPA ┆ NET-RS002A ┆ … ┆ null       ┆ 1.9       ┆ null       ┆ null       │\n",
       "│           ┆ /dd.ei ┆ .AQ     ┆            ┆   ┆            ┆           ┆            ┆            │\n",
       "│           ┆ onet.e ┆         ┆            ┆   ┆            ┆           ┆            ┆            │\n",
       "│           ┆ uropa. ┆         ┆            ┆   ┆            ┆           ┆            ┆            │\n",
       "│           ┆ eu/voc ┆         ┆            ┆   ┆            ┆           ┆            ┆            │\n",
       "│           ┆ ab…    ┆         ┆            ┆   ┆            ┆           ┆            ┆            │\n",
       "└───────────┴────────┴─────────┴────────────┴───┴────────────┴───────────┴────────────┴────────────┘"
      ]
     },
     "execution_count": 14,
     "metadata": {},
     "output_type": "execute_result"
    }
   ],
   "source": [
    "res"
   ]
  },
  {
   "cell_type": "code",
   "execution_count": null,
   "id": "ea989dab",
   "metadata": {},
   "outputs": [],
   "source": []
  }
 ],
 "metadata": {
  "kernelspec": {
   "display_name": "Python 3 (ipykernel)",
   "language": "python",
   "name": "python3"
  },
  "language_info": {
   "codemirror_mode": {
    "name": "ipython",
    "version": 3
   },
   "file_extension": ".py",
   "mimetype": "text/x-python",
   "name": "python",
   "nbconvert_exporter": "python",
   "pygments_lexer": "ipython3",
   "version": "3.8.16"
  }
 },
 "nbformat": 4,
 "nbformat_minor": 5
}
